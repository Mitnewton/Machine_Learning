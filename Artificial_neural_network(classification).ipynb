{
  "nbformat": 4,
  "nbformat_minor": 0,
  "metadata": {
    "colab": {
      "name": "Artificial_neural_network(classification).ipynb",
      "provenance": [],
      "collapsed_sections": [],
      "authorship_tag": "ABX9TyNBlR4s7Vq2piKS28l55XK9",
      "include_colab_link": true
    },
    "kernelspec": {
      "name": "python3",
      "display_name": "Python 3"
    }
  },
  "cells": [
    {
      "cell_type": "markdown",
      "metadata": {
        "id": "view-in-github",
        "colab_type": "text"
      },
      "source": [
        "<a href=\"https://colab.research.google.com/github/Mitnewton/Machine_Learning/blob/master/Artificial_neural_network(classification).ipynb\" target=\"_parent\"><img src=\"https://colab.research.google.com/assets/colab-badge.svg\" alt=\"Open In Colab\"/></a>"
      ]
    },
    {
      "cell_type": "markdown",
      "metadata": {
        "id": "GvOvqGZxV2A4",
        "colab_type": "text"
      },
      "source": [
        "**Importing the libraries**"
      ]
    },
    {
      "cell_type": "code",
      "metadata": {
        "id": "Y3CA1mviktNe",
        "colab_type": "code",
        "colab": {}
      },
      "source": [
        "import pandas as pd\n",
        "import numpy as np\n",
        "import tensorflow as tf"
      ],
      "execution_count": null,
      "outputs": []
    },
    {
      "cell_type": "code",
      "metadata": {
        "id": "arXMlSxLX6B0",
        "colab_type": "code",
        "colab": {
          "base_uri": "https://localhost:8080/",
          "height": 35
        },
        "outputId": "a9d3195c-c032-440d-d412-62394446dfd3"
      },
      "source": [
        "tf.__version__"
      ],
      "execution_count": null,
      "outputs": [
        {
          "output_type": "execute_result",
          "data": {
            "application/vnd.google.colaboratory.intrinsic+json": {
              "type": "string"
            },
            "text/plain": [
              "'2.3.0'"
            ]
          },
          "metadata": {
            "tags": []
          },
          "execution_count": 2
        }
      ]
    },
    {
      "cell_type": "markdown",
      "metadata": {
        "id": "WYYTVWPNYGK8",
        "colab_type": "text"
      },
      "source": [
        "**Part-1 Data Preprocessing**"
      ]
    },
    {
      "cell_type": "markdown",
      "metadata": {
        "id": "wgXJxSv6YO5j",
        "colab_type": "text"
      },
      "source": [
        "importing the dataset"
      ]
    },
    {
      "cell_type": "code",
      "metadata": {
        "id": "m8orNMqvYNq9",
        "colab_type": "code",
        "colab": {}
      },
      "source": [
        "df = pd.read_csv(\"Churn_Modelling.csv\")\n",
        "X = df.iloc[:,3:-1].values\n",
        "y = df.iloc[: ,-1].values"
      ],
      "execution_count": null,
      "outputs": []
    },
    {
      "cell_type": "code",
      "metadata": {
        "id": "NFMfHF8GZfpx",
        "colab_type": "code",
        "colab": {
          "base_uri": "https://localhost:8080/",
          "height": 134
        },
        "outputId": "c7906003-5da2-4786-8b47-cfdf8df764ca"
      },
      "source": [
        "print(X)"
      ],
      "execution_count": null,
      "outputs": [
        {
          "output_type": "stream",
          "text": [
            "[[619 'France' 'Female' ... 1 1 101348.88]\n",
            " [608 'Spain' 'Female' ... 0 1 112542.58]\n",
            " [502 'France' 'Female' ... 1 0 113931.57]\n",
            " ...\n",
            " [709 'France' 'Female' ... 0 1 42085.58]\n",
            " [772 'Germany' 'Male' ... 1 0 92888.52]\n",
            " [792 'France' 'Female' ... 1 0 38190.78]]\n"
          ],
          "name": "stdout"
        }
      ]
    },
    {
      "cell_type": "code",
      "metadata": {
        "id": "TXT-op3xZhBt",
        "colab_type": "code",
        "colab": {
          "base_uri": "https://localhost:8080/",
          "height": 34
        },
        "outputId": "1c71b8d6-0d6a-4cc7-dc5c-5b5b42169e20"
      },
      "source": [
        "print(y)"
      ],
      "execution_count": null,
      "outputs": [
        {
          "output_type": "stream",
          "text": [
            "[1 0 1 ... 1 1 0]\n"
          ],
          "name": "stdout"
        }
      ]
    },
    {
      "cell_type": "markdown",
      "metadata": {
        "id": "3xTMKNMQarSN",
        "colab_type": "text"
      },
      "source": [
        "**Encoding categorical data**"
      ]
    },
    {
      "cell_type": "markdown",
      "metadata": {
        "id": "8FxL-ds8a6j_",
        "colab_type": "text"
      },
      "source": [
        "Label encoder on gender column"
      ]
    },
    {
      "cell_type": "code",
      "metadata": {
        "id": "BlpqSgd9Zk8Y",
        "colab_type": "code",
        "colab": {}
      },
      "source": [
        "from sklearn.preprocessing  import LabelEncoder\n",
        "le = LabelEncoder()\n",
        "X[:,2] = le.fit_transform(X[:,2])"
      ],
      "execution_count": null,
      "outputs": []
    },
    {
      "cell_type": "code",
      "metadata": {
        "id": "BZjzjx6_b5QS",
        "colab_type": "code",
        "colab": {
          "base_uri": "https://localhost:8080/",
          "height": 134
        },
        "outputId": "1795105f-6e57-4a82-f09b-f3c831ce7405"
      },
      "source": [
        "print(X)"
      ],
      "execution_count": null,
      "outputs": [
        {
          "output_type": "stream",
          "text": [
            "[[619 'France' 0 ... 1 1 101348.88]\n",
            " [608 'Spain' 0 ... 0 1 112542.58]\n",
            " [502 'France' 0 ... 1 0 113931.57]\n",
            " ...\n",
            " [709 'France' 0 ... 0 1 42085.58]\n",
            " [772 'Germany' 1 ... 1 0 92888.52]\n",
            " [792 'France' 0 ... 1 0 38190.78]]\n"
          ],
          "name": "stdout"
        }
      ]
    },
    {
      "cell_type": "markdown",
      "metadata": {
        "id": "dtoILdxIy3kg",
        "colab_type": "text"
      },
      "source": [
        "One hot encoding on geography column"
      ]
    },
    {
      "cell_type": "code",
      "metadata": {
        "id": "38wM8aBCcCu8",
        "colab_type": "code",
        "colab": {}
      },
      "source": [
        "from sklearn.compose import ColumnTransformer\n",
        "from sklearn.preprocessing import OneHotEncoder\n",
        "ct =ColumnTransformer(transformers=[['encoder',OneHotEncoder(),[1]]],remainder='passthrough')\n",
        "X = np.array(ct.fit_transform(X))"
      ],
      "execution_count": null,
      "outputs": []
    },
    {
      "cell_type": "code",
      "metadata": {
        "id": "1nmtSTXjKw_Z",
        "colab_type": "code",
        "colab": {
          "base_uri": "https://localhost:8080/",
          "height": 134
        },
        "outputId": "b82438ff-bf59-4f60-ad44-9c39589f60fa"
      },
      "source": [
        "print(X)"
      ],
      "execution_count": null,
      "outputs": [
        {
          "output_type": "stream",
          "text": [
            "[[1.0 0.0 0.0 ... 1 1 101348.88]\n",
            " [0.0 0.0 1.0 ... 0 1 112542.58]\n",
            " [1.0 0.0 0.0 ... 1 0 113931.57]\n",
            " ...\n",
            " [1.0 0.0 0.0 ... 0 1 42085.58]\n",
            " [0.0 1.0 0.0 ... 1 0 92888.52]\n",
            " [1.0 0.0 0.0 ... 1 0 38190.78]]\n"
          ],
          "name": "stdout"
        }
      ]
    },
    {
      "cell_type": "markdown",
      "metadata": {
        "id": "rQHwoUGKLRFt",
        "colab_type": "text"
      },
      "source": [
        "Splitting the dataset into training set & test set"
      ]
    },
    {
      "cell_type": "code",
      "metadata": {
        "id": "7wRb_7uxLZbY",
        "colab_type": "code",
        "colab": {}
      },
      "source": [
        "from sklearn.model_selection import train_test_split\n",
        "X_train ,X_test,y_train,y_test = train_test_split(X,y,test_size=0.2,random_state=0)"
      ],
      "execution_count": null,
      "outputs": []
    },
    {
      "cell_type": "markdown",
      "metadata": {
        "id": "cQJT3DW4VME8",
        "colab_type": "text"
      },
      "source": [
        "Feature Scaling"
      ]
    },
    {
      "cell_type": "code",
      "metadata": {
        "id": "giHEKqHWVSDW",
        "colab_type": "code",
        "colab": {}
      },
      "source": [
        "from sklearn.preprocessing import StandardScaler\n",
        "sc = StandardScaler()\n",
        "X_train = sc.fit_transform(X_train)\n",
        "X_test = sc.transform(X_test)\n",
        "\n"
      ],
      "execution_count": null,
      "outputs": []
    },
    {
      "cell_type": "markdown",
      "metadata": {
        "id": "eCftO9CQ9xDe",
        "colab_type": "text"
      },
      "source": [
        "**Part-2 Building the ANN**"
      ]
    },
    {
      "cell_type": "markdown",
      "metadata": {
        "id": "zISad06H4C4p",
        "colab_type": "text"
      },
      "source": [
        "Initialising the ANN"
      ]
    },
    {
      "cell_type": "code",
      "metadata": {
        "id": "3TCUznXV4KB_",
        "colab_type": "code",
        "colab": {}
      },
      "source": [
        "ann = tf.keras.models.Sequential()"
      ],
      "execution_count": null,
      "outputs": []
    },
    {
      "cell_type": "markdown",
      "metadata": {
        "id": "GkOkbYGv4i8i",
        "colab_type": "text"
      },
      "source": [
        "Adding the input layer and first hidden layer"
      ]
    },
    {
      "cell_type": "code",
      "metadata": {
        "id": "NrmlZBM77C6m",
        "colab_type": "code",
        "colab": {}
      },
      "source": [
        "ann.add(tf.keras.layers.Dense(units=6 , activation='relu'))"
      ],
      "execution_count": null,
      "outputs": []
    },
    {
      "cell_type": "markdown",
      "metadata": {
        "id": "bdol1D4r7Vxl",
        "colab_type": "text"
      },
      "source": [
        "Adding the secound hidden layer"
      ]
    },
    {
      "cell_type": "code",
      "metadata": {
        "colab_type": "code",
        "id": "MhVe7DzH7klV",
        "colab": {}
      },
      "source": [
        "ann.add(tf.keras.layers.Dense(units=6 , activation='relu'))"
      ],
      "execution_count": null,
      "outputs": []
    },
    {
      "cell_type": "markdown",
      "metadata": {
        "id": "xZsgiW1e8TQI",
        "colab_type": "text"
      },
      "source": [
        "Adding the output layer"
      ]
    },
    {
      "cell_type": "code",
      "metadata": {
        "colab_type": "code",
        "id": "G7dDVY5Z9kuv",
        "colab": {}
      },
      "source": [
        "ann.add(tf.keras.layers.Dense(units=1 , activation='sigmoid'))"
      ],
      "execution_count": null,
      "outputs": []
    },
    {
      "cell_type": "markdown",
      "metadata": {
        "id": "gp59eVCj-FRj",
        "colab_type": "text"
      },
      "source": [
        ""
      ]
    },
    {
      "cell_type": "markdown",
      "metadata": {
        "id": "6Z6xZgPg-GBl",
        "colab_type": "text"
      },
      "source": [
        "**Part-3 Training the ANN**"
      ]
    },
    {
      "cell_type": "markdown",
      "metadata": {
        "id": "wSSTW3K1-fW_",
        "colab_type": "text"
      },
      "source": [
        "Compiling the ANN"
      ]
    },
    {
      "cell_type": "code",
      "metadata": {
        "id": "KHRVj40K-OHm",
        "colab_type": "code",
        "colab": {}
      },
      "source": [
        "ann.compile(optimizer='adam' ,loss='binary_crossentropy' , metrics=['accuracy'])"
      ],
      "execution_count": null,
      "outputs": []
    },
    {
      "cell_type": "markdown",
      "metadata": {
        "id": "iz-ipsNDCHoB",
        "colab_type": "text"
      },
      "source": [
        "Traning the ANN on the Training set"
      ]
    },
    {
      "cell_type": "code",
      "metadata": {
        "id": "16FD6FloCO0k",
        "colab_type": "code",
        "colab": {
          "base_uri": "https://localhost:8080/",
          "height": 1000
        },
        "outputId": "76a0e99c-e74c-4201-de0b-66a03286c98a"
      },
      "source": [
        "ann.fit(X_train, y_train,batch_size=32,epochs=95)"
      ],
      "execution_count": null,
      "outputs": [
        {
          "output_type": "stream",
          "text": [
            "Epoch 1/95\n",
            "250/250 [==============================] - 0s 931us/step - loss: 0.3287 - accuracy: 0.8645\n",
            "Epoch 2/95\n",
            "250/250 [==============================] - 0s 955us/step - loss: 0.3297 - accuracy: 0.8619\n",
            "Epoch 3/95\n",
            "250/250 [==============================] - 0s 929us/step - loss: 0.3290 - accuracy: 0.8639\n",
            "Epoch 4/95\n",
            "250/250 [==============================] - 0s 959us/step - loss: 0.3293 - accuracy: 0.8616\n",
            "Epoch 5/95\n",
            "250/250 [==============================] - 0s 963us/step - loss: 0.3291 - accuracy: 0.8634\n",
            "Epoch 6/95\n",
            "250/250 [==============================] - 0s 935us/step - loss: 0.3298 - accuracy: 0.8637\n",
            "Epoch 7/95\n",
            "250/250 [==============================] - 0s 944us/step - loss: 0.3291 - accuracy: 0.8635\n",
            "Epoch 8/95\n",
            "250/250 [==============================] - 0s 903us/step - loss: 0.3287 - accuracy: 0.8630\n",
            "Epoch 9/95\n",
            "250/250 [==============================] - 0s 1ms/step - loss: 0.3296 - accuracy: 0.8631\n",
            "Epoch 10/95\n",
            "250/250 [==============================] - 0s 913us/step - loss: 0.3293 - accuracy: 0.8639\n",
            "Epoch 11/95\n",
            "250/250 [==============================] - 0s 927us/step - loss: 0.3290 - accuracy: 0.8626\n",
            "Epoch 12/95\n",
            "250/250 [==============================] - 0s 926us/step - loss: 0.3289 - accuracy: 0.8634\n",
            "Epoch 13/95\n",
            "250/250 [==============================] - 0s 948us/step - loss: 0.3295 - accuracy: 0.8630\n",
            "Epoch 14/95\n",
            "250/250 [==============================] - 0s 958us/step - loss: 0.3291 - accuracy: 0.8626\n",
            "Epoch 15/95\n",
            "250/250 [==============================] - 0s 1ms/step - loss: 0.3293 - accuracy: 0.8625\n",
            "Epoch 16/95\n",
            "250/250 [==============================] - 0s 968us/step - loss: 0.3289 - accuracy: 0.8645\n",
            "Epoch 17/95\n",
            "250/250 [==============================] - 0s 946us/step - loss: 0.3292 - accuracy: 0.8631\n",
            "Epoch 18/95\n",
            "250/250 [==============================] - 0s 939us/step - loss: 0.3293 - accuracy: 0.8629\n",
            "Epoch 19/95\n",
            "250/250 [==============================] - 0s 949us/step - loss: 0.3292 - accuracy: 0.8639\n",
            "Epoch 20/95\n",
            "250/250 [==============================] - 0s 962us/step - loss: 0.3292 - accuracy: 0.8643\n",
            "Epoch 21/95\n",
            "250/250 [==============================] - 0s 922us/step - loss: 0.3292 - accuracy: 0.8640\n",
            "Epoch 22/95\n",
            "250/250 [==============================] - 0s 938us/step - loss: 0.3288 - accuracy: 0.8636\n",
            "Epoch 23/95\n",
            "250/250 [==============================] - 0s 919us/step - loss: 0.3290 - accuracy: 0.8635\n",
            "Epoch 24/95\n",
            "250/250 [==============================] - 0s 903us/step - loss: 0.3292 - accuracy: 0.8648\n",
            "Epoch 25/95\n",
            "250/250 [==============================] - 0s 912us/step - loss: 0.3290 - accuracy: 0.8660\n",
            "Epoch 26/95\n",
            "250/250 [==============================] - 0s 943us/step - loss: 0.3289 - accuracy: 0.8640\n",
            "Epoch 27/95\n",
            "250/250 [==============================] - 0s 888us/step - loss: 0.3294 - accuracy: 0.8627\n",
            "Epoch 28/95\n",
            "250/250 [==============================] - 0s 901us/step - loss: 0.3292 - accuracy: 0.8631\n",
            "Epoch 29/95\n",
            "250/250 [==============================] - 0s 925us/step - loss: 0.3293 - accuracy: 0.8655\n",
            "Epoch 30/95\n",
            "250/250 [==============================] - 0s 938us/step - loss: 0.3296 - accuracy: 0.8640\n",
            "Epoch 31/95\n",
            "250/250 [==============================] - 0s 921us/step - loss: 0.3289 - accuracy: 0.8635\n",
            "Epoch 32/95\n",
            "250/250 [==============================] - 0s 923us/step - loss: 0.3294 - accuracy: 0.8641\n",
            "Epoch 33/95\n",
            "250/250 [==============================] - 0s 1ms/step - loss: 0.3290 - accuracy: 0.8639\n",
            "Epoch 34/95\n",
            "250/250 [==============================] - 0s 996us/step - loss: 0.3293 - accuracy: 0.8643\n",
            "Epoch 35/95\n",
            "250/250 [==============================] - 0s 905us/step - loss: 0.3290 - accuracy: 0.8656\n",
            "Epoch 36/95\n",
            "250/250 [==============================] - 0s 945us/step - loss: 0.3290 - accuracy: 0.8644\n",
            "Epoch 37/95\n",
            "250/250 [==============================] - 0s 961us/step - loss: 0.3295 - accuracy: 0.8640\n",
            "Epoch 38/95\n",
            "250/250 [==============================] - 0s 976us/step - loss: 0.3288 - accuracy: 0.8646\n",
            "Epoch 39/95\n",
            "250/250 [==============================] - 0s 1ms/step - loss: 0.3289 - accuracy: 0.8640\n",
            "Epoch 40/95\n",
            "250/250 [==============================] - 0s 902us/step - loss: 0.3293 - accuracy: 0.8627\n",
            "Epoch 41/95\n",
            "250/250 [==============================] - 0s 930us/step - loss: 0.3292 - accuracy: 0.8631\n",
            "Epoch 42/95\n",
            "250/250 [==============================] - 0s 936us/step - loss: 0.3288 - accuracy: 0.8627\n",
            "Epoch 43/95\n",
            "250/250 [==============================] - 0s 936us/step - loss: 0.3289 - accuracy: 0.8634\n",
            "Epoch 44/95\n",
            "250/250 [==============================] - 0s 932us/step - loss: 0.3291 - accuracy: 0.8646\n",
            "Epoch 45/95\n",
            "250/250 [==============================] - 0s 894us/step - loss: 0.3298 - accuracy: 0.8625\n",
            "Epoch 46/95\n",
            "250/250 [==============================] - 0s 936us/step - loss: 0.3292 - accuracy: 0.8634\n",
            "Epoch 47/95\n",
            "250/250 [==============================] - 0s 933us/step - loss: 0.3290 - accuracy: 0.8635\n",
            "Epoch 48/95\n",
            "250/250 [==============================] - 0s 888us/step - loss: 0.3288 - accuracy: 0.8646\n",
            "Epoch 49/95\n",
            "250/250 [==============================] - 0s 901us/step - loss: 0.3289 - accuracy: 0.8644\n",
            "Epoch 50/95\n",
            "250/250 [==============================] - 0s 906us/step - loss: 0.3291 - accuracy: 0.8636\n",
            "Epoch 51/95\n",
            "250/250 [==============================] - 0s 962us/step - loss: 0.3288 - accuracy: 0.8637\n",
            "Epoch 52/95\n",
            "250/250 [==============================] - 0s 965us/step - loss: 0.3289 - accuracy: 0.8636\n",
            "Epoch 53/95\n",
            "250/250 [==============================] - 0s 1ms/step - loss: 0.3289 - accuracy: 0.8645\n",
            "Epoch 54/95\n",
            "250/250 [==============================] - 0s 1ms/step - loss: 0.3289 - accuracy: 0.8637\n",
            "Epoch 55/95\n",
            "250/250 [==============================] - 0s 1ms/step - loss: 0.3294 - accuracy: 0.8625\n",
            "Epoch 56/95\n",
            "250/250 [==============================] - 0s 884us/step - loss: 0.3293 - accuracy: 0.8651\n",
            "Epoch 57/95\n",
            "250/250 [==============================] - 0s 960us/step - loss: 0.3295 - accuracy: 0.8631\n",
            "Epoch 58/95\n",
            "250/250 [==============================] - 0s 912us/step - loss: 0.3293 - accuracy: 0.8637\n",
            "Epoch 59/95\n",
            "250/250 [==============================] - 0s 932us/step - loss: 0.3292 - accuracy: 0.8639\n",
            "Epoch 60/95\n",
            "250/250 [==============================] - 0s 1ms/step - loss: 0.3290 - accuracy: 0.8622\n",
            "Epoch 61/95\n",
            "250/250 [==============================] - 0s 964us/step - loss: 0.3293 - accuracy: 0.8645\n",
            "Epoch 62/95\n",
            "250/250 [==============================] - 0s 932us/step - loss: 0.3294 - accuracy: 0.8654\n",
            "Epoch 63/95\n",
            "250/250 [==============================] - 0s 885us/step - loss: 0.3294 - accuracy: 0.8643\n",
            "Epoch 64/95\n",
            "250/250 [==============================] - 0s 989us/step - loss: 0.3287 - accuracy: 0.8640\n",
            "Epoch 65/95\n",
            "250/250 [==============================] - 0s 949us/step - loss: 0.3293 - accuracy: 0.8639\n",
            "Epoch 66/95\n",
            "250/250 [==============================] - 0s 902us/step - loss: 0.3293 - accuracy: 0.8619\n",
            "Epoch 67/95\n",
            "250/250 [==============================] - 0s 899us/step - loss: 0.3295 - accuracy: 0.8637\n",
            "Epoch 68/95\n",
            "250/250 [==============================] - 0s 914us/step - loss: 0.3291 - accuracy: 0.8639\n",
            "Epoch 69/95\n",
            "250/250 [==============================] - 0s 920us/step - loss: 0.3291 - accuracy: 0.8646\n",
            "Epoch 70/95\n",
            "250/250 [==============================] - 0s 912us/step - loss: 0.3290 - accuracy: 0.8648\n",
            "Epoch 71/95\n",
            "250/250 [==============================] - 0s 976us/step - loss: 0.3289 - accuracy: 0.8648\n",
            "Epoch 72/95\n",
            "250/250 [==============================] - 0s 923us/step - loss: 0.3286 - accuracy: 0.8634\n",
            "Epoch 73/95\n",
            "250/250 [==============================] - 0s 922us/step - loss: 0.3292 - accuracy: 0.8640\n",
            "Epoch 74/95\n",
            "250/250 [==============================] - 0s 937us/step - loss: 0.3291 - accuracy: 0.8633\n",
            "Epoch 75/95\n",
            "250/250 [==============================] - 0s 934us/step - loss: 0.3294 - accuracy: 0.8633\n",
            "Epoch 76/95\n",
            "250/250 [==============================] - 0s 923us/step - loss: 0.3287 - accuracy: 0.8645\n",
            "Epoch 77/95\n",
            "250/250 [==============================] - 0s 1ms/step - loss: 0.3292 - accuracy: 0.8630\n",
            "Epoch 78/95\n",
            "250/250 [==============================] - 0s 960us/step - loss: 0.3293 - accuracy: 0.8621\n",
            "Epoch 79/95\n",
            "250/250 [==============================] - 0s 990us/step - loss: 0.3290 - accuracy: 0.8636\n",
            "Epoch 80/95\n",
            "250/250 [==============================] - 0s 954us/step - loss: 0.3292 - accuracy: 0.8624\n",
            "Epoch 81/95\n",
            "250/250 [==============================] - 0s 1ms/step - loss: 0.3294 - accuracy: 0.8640\n",
            "Epoch 82/95\n",
            "250/250 [==============================] - 0s 1ms/step - loss: 0.3293 - accuracy: 0.8639\n",
            "Epoch 83/95\n",
            "250/250 [==============================] - 0s 953us/step - loss: 0.3293 - accuracy: 0.8636\n",
            "Epoch 84/95\n",
            "250/250 [==============================] - 0s 955us/step - loss: 0.3287 - accuracy: 0.8636\n",
            "Epoch 85/95\n",
            "250/250 [==============================] - 0s 999us/step - loss: 0.3293 - accuracy: 0.8660\n",
            "Epoch 86/95\n",
            "250/250 [==============================] - 0s 949us/step - loss: 0.3283 - accuracy: 0.8634\n",
            "Epoch 87/95\n",
            "250/250 [==============================] - 0s 968us/step - loss: 0.3290 - accuracy: 0.8622\n",
            "Epoch 88/95\n",
            "250/250 [==============================] - 0s 939us/step - loss: 0.3290 - accuracy: 0.8643\n",
            "Epoch 89/95\n",
            "250/250 [==============================] - 0s 994us/step - loss: 0.3291 - accuracy: 0.8627\n",
            "Epoch 90/95\n",
            "250/250 [==============================] - 0s 954us/step - loss: 0.3288 - accuracy: 0.8629\n",
            "Epoch 91/95\n",
            "250/250 [==============================] - 0s 926us/step - loss: 0.3290 - accuracy: 0.8639\n",
            "Epoch 92/95\n",
            "250/250 [==============================] - 0s 954us/step - loss: 0.3290 - accuracy: 0.8641\n",
            "Epoch 93/95\n",
            "250/250 [==============================] - 0s 942us/step - loss: 0.3287 - accuracy: 0.8639\n",
            "Epoch 94/95\n",
            "250/250 [==============================] - 0s 950us/step - loss: 0.3290 - accuracy: 0.8648\n",
            "Epoch 95/95\n",
            "250/250 [==============================] - 0s 904us/step - loss: 0.3290 - accuracy: 0.8645\n"
          ],
          "name": "stdout"
        },
        {
          "output_type": "execute_result",
          "data": {
            "text/plain": [
              "<tensorflow.python.keras.callbacks.History at 0x7fc2d4826668>"
            ]
          },
          "metadata": {
            "tags": []
          },
          "execution_count": 21
        }
      ]
    },
    {
      "cell_type": "markdown",
      "metadata": {
        "id": "M9Fw7TvUMiF7",
        "colab_type": "text"
      },
      "source": [
        "**Part-4 Making the predictions and evaluating the model**"
      ]
    },
    {
      "cell_type": "markdown",
      "metadata": {
        "id": "ikv737ujYq3y",
        "colab_type": "text"
      },
      "source": [
        ""
      ]
    },
    {
      "cell_type": "markdown",
      "metadata": {
        "id": "CGRo3eacgDdC",
        "colab_type": "text"
      },
      "source": [
        "**Homework**\n",
        "\n",
        "Use our ANN model to predict if the customer with the following informations will leave the bank: \n",
        "\n",
        "Geography: France\n",
        "\n",
        "Credit Score: 600\n",
        "\n",
        "Gender: Male\n",
        "\n",
        "Age: 40 years old\n",
        "\n",
        "Tenure: 3 years\n",
        "\n",
        "Balance: \\$ 60000\n",
        "\n",
        "Number of Products: 2\n",
        "\n",
        "Does this customer have a credit card? Yes\n",
        "\n",
        "Is this customer an Active Member: Yes\n",
        "\n",
        "Estimated Salary: \\$ 50000\n",
        "\n",
        "So, should we say goodbye to that customer?"
      ]
    },
    {
      "cell_type": "markdown",
      "metadata": {
        "id": "j6147N5APo-r",
        "colab_type": "text"
      },
      "source": [
        "predicting the result in single obesrvation"
      ]
    },
    {
      "cell_type": "code",
      "metadata": {
        "id": "HMte_nexMso2",
        "colab_type": "code",
        "colab": {
          "base_uri": "https://localhost:8080/",
          "height": 34
        },
        "outputId": "7cfa1c7f-8e7a-4495-f900-6d05c0fab6ec"
      },
      "source": [
        "print(ann.predict(sc.transform([[1, 0, 0, 600, 1,40, 3, 60000, 2, 1, 1, 50000]])))"
      ],
      "execution_count": null,
      "outputs": [
        {
          "output_type": "stream",
          "text": [
            "[[0.02365255]]\n"
          ],
          "name": "stdout"
        }
      ]
    },
    {
      "cell_type": "code",
      "metadata": {
        "colab_type": "code",
        "id": "l639w_UOdY28",
        "colab": {
          "base_uri": "https://localhost:8080/",
          "height": 34
        },
        "outputId": "d1872041-482d-4db3-9c23-91b0cfda809b"
      },
      "source": [
        "print(ann.predict(sc.transform([[1, 0, 0, 600, 1,40, 3, 60000, 2, 1, 1, 50000]]))>0.5)"
      ],
      "execution_count": null,
      "outputs": [
        {
          "output_type": "stream",
          "text": [
            "[[False]]\n"
          ],
          "name": "stdout"
        }
      ]
    },
    {
      "cell_type": "markdown",
      "metadata": {
        "id": "wGjx94g2n7OV",
        "colab_type": "text"
      },
      "source": [
        "Therefore, our ANN model predicts that this customer stays in the bank!\n",
        "\n",
        "**Important note 1:** Notice that the values of the features were all input in a double pair of square brackets. That's because the \"predict\" method always expects a 2D array as the format of its inputs. And putting our values into a double pair of square brackets makes the input exactly a 2D array.\n",
        "\n",
        "**Important note 2:** Notice also that the \"France\" country was not input as a string in the last column but as \"1, 0, 0\" in the first three columns. That's because of course the predict method expects the one-hot-encoded values of the state, and as we see in the first row of the matrix of features X, \"France\" was encoded as \"1, 0, 0\". And be careful to include these values in the first three columns, because the dummy variables are always created in the first columns."
      ]
    },
    {
      "cell_type": "markdown",
      "metadata": {
        "id": "siFDFwRjedXd",
        "colab_type": "text"
      },
      "source": [
        "Predicting the test set results"
      ]
    },
    {
      "cell_type": "code",
      "metadata": {
        "id": "nIyEeQdRZwgs",
        "colab_type": "code",
        "colab": {
          "base_uri": "https://localhost:8080/",
          "height": 134
        },
        "outputId": "445feacf-a470-4b4e-c9e9-cc5c92168a85"
      },
      "source": [
        "y_pred = ann.predict(X_test)\n",
        "y_pred = (y_pred > 0.5)\n",
        "print(np.concatenate((y_pred.reshape(len(y_pred),1), y_test.reshape(len(y_test),1)),1))"
      ],
      "execution_count": null,
      "outputs": [
        {
          "output_type": "stream",
          "text": [
            "[[0 0]\n",
            " [0 1]\n",
            " [0 0]\n",
            " ...\n",
            " [0 0]\n",
            " [0 0]\n",
            " [0 0]]\n"
          ],
          "name": "stdout"
        }
      ]
    },
    {
      "cell_type": "markdown",
      "metadata": {
        "id": "FQ2xKT3PfO6a",
        "colab_type": "text"
      },
      "source": [
        "Making the confusion matrix"
      ]
    },
    {
      "cell_type": "code",
      "metadata": {
        "id": "ci6K_r6LaF6P",
        "colab_type": "code",
        "colab": {
          "base_uri": "https://localhost:8080/",
          "height": 67
        },
        "outputId": "daa0457e-1b6e-4356-d0b5-bdd4cb905a3f"
      },
      "source": [
        "from sklearn.metrics import confusion_matrix, accuracy_score\n",
        "cm = confusion_matrix(y_test, y_pred)\n",
        "print(cm)\n",
        "accuracy_score(y_test, y_pred)"
      ],
      "execution_count": null,
      "outputs": [
        {
          "output_type": "stream",
          "text": [
            "[[1520   75]\n",
            " [ 201  204]]\n"
          ],
          "name": "stdout"
        },
        {
          "output_type": "execute_result",
          "data": {
            "text/plain": [
              "0.862"
            ]
          },
          "metadata": {
            "tags": []
          },
          "execution_count": 30
        }
      ]
    }
  ]
}